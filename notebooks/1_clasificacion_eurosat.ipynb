{
 "cells": [
  {
   "cell_type": "code",
   "execution_count": 4,
   "id": "7ea768d1",
   "metadata": {},
   "outputs": [],
   "source": [
    "import sys\n",
    "import os\n",
    "\n",
    "# Añade el path absoluto a la carpeta donde está el archivo\n",
    "sys.path.append(os.path.abspath(\"../MTP/Multi_Task_Pretrain/backbone\"))\n",
    "\n",
    "# Importa correctamente el modelo\n",
    "from vit_win_rvsa_v3_wsz7 import vit_b_rvsa"
   ]
  },
  {
   "cell_type": "code",
   "execution_count": 4,
   "id": "8c33c92a",
   "metadata": {},
   "outputs": [
    {
     "name": "stderr",
     "output_type": "stream",
     "text": [
      "C:\\Users\\diana\\AppData\\Local\\Packages\\PythonSoftwareFoundation.Python.3.11_qbz5n2kfra8p0\\LocalCache\\local-packages\\Python311\\site-packages\\timm\\models\\layers\\__init__.py:48: FutureWarning: Importing from timm.models.layers is deprecated, please import via timm.layers\n",
      "  warnings.warn(f\"Importing from {__name__} is deprecated, please import via timm.layers\", FutureWarning)\n",
      "C:\\Users\\diana\\AppData\\Local\\Packages\\PythonSoftwareFoundation.Python.3.11_qbz5n2kfra8p0\\LocalCache\\local-packages\\Python311\\site-packages\\torch\\functional.py:539: UserWarning: torch.meshgrid: in an upcoming release, it will be required to pass the indexing argument. (Triggered internally at C:\\actions-runner\\_work\\pytorch\\pytorch\\pytorch\\aten\\src\\ATen\\native\\TensorShape.cpp:3638.)\n",
      "  return _VF.meshgrid(tensors, **kwargs)  # type: ignore[attr-defined]\n"
     ]
    },
    {
     "name": "stdout",
     "output_type": "stream",
     "text": [
      "The relative_pos_embedding is used\n",
      "The relative_pos_embedding is used\n",
      "The relative_pos_embedding is used\n",
      "The relative_pos_embedding is used\n",
      "The relative_pos_embedding is used\n",
      "The relative_pos_embedding is used\n",
      "The relative_pos_embedding is used\n",
      "The relative_pos_embedding is used\n"
     ]
    }
   ],
   "source": [
    "import torch\n",
    "import torch.nn as nn\n",
    "import sys\n",
    "import os\n",
    "\n",
    "# === Agregar la ruta absoluta a la carpeta 'backbone' ===\n",
    "sys.path.append(os.path.abspath(\"../MTP/Multi_Task_Pretrain/backbone\"))\n",
    "\n",
    "from vit_win_rvsa_v3_wsz7 import vit_b_rvsa\n",
    "\n",
    "# === Paso 1: preparar argumentos para el backbone ===\n",
    "class Args:\n",
    "    image_size = 224\n",
    "    use_ckpt = \"False\"\n",
    "\n",
    "args = Args()\n",
    "\n",
    "# === Paso 2: crear el backbone ===\n",
    "backbone = vit_b_rvsa(args, inchannels=3)\n",
    "\n",
    "# === Paso 3: definir modelo completo (backbone + clasificador) ===\n",
    "class ModeloClasificacion(nn.Module):\n",
    "    def __init__(self, backbone, num_classes):\n",
    "        super().__init__()\n",
    "        self.backbone = backbone\n",
    "        self.classifier = nn.Linear(backbone.out_channels[0], num_classes)\n",
    "\n",
    "    def forward(self, x):\n",
    "        features = self.backbone(x)[0]\n",
    "        pooled = nn.functional.adaptive_avg_pool2d(features, 1).view(x.size(0), -1)\n",
    "        return self.classifier(pooled)\n",
    "\n",
    "# === Paso 4: crear el modelo y enviarlo al dispositivo ===\n",
    "device = torch.device(\"cuda\" if torch.cuda.is_available() else \"cpu\")\n",
    "model = ModeloClasificacion(backbone, num_classes=10).to(device)\n"
   ]
  },
  {
   "cell_type": "code",
   "execution_count": 7,
   "id": "12404f0a",
   "metadata": {},
   "outputs": [],
   "source": [
    "from torchvision.datasets import EuroSAT\n",
    "\n",
    "from torchvision import transforms\n",
    "import os\n",
    "\n",
    "root_path = \"../data\"\n",
    "\n",
    "transform = transforms.Compose([\n",
    "    transforms.Resize((224, 224)),  # Tamaño esperado por ViT\n",
    "    transforms.ToTensor(),\n",
    "    transforms.Normalize(mean=[0.485, 0.456, 0.406],\n",
    "                         std=[0.229, 0.224, 0.225])  # Normalización de ImageNet\n",
    "])\n",
    "\n",
    "# Descargar el dataset\n",
    "dataset = EuroSAT(root=root_path, download=True, transform=transform)"
   ]
  },
  {
   "cell_type": "code",
   "execution_count": 8,
   "id": "1080d996",
   "metadata": {},
   "outputs": [],
   "source": [
    "from torch.utils.data import random_split\n",
    "\n",
    "# 80% train, 20% val\n",
    "train_size = int(0.8 * len(dataset))\n",
    "val_size = len(dataset) - train_size\n",
    "train_dataset, val_dataset = random_split(dataset, [train_size, val_size])"
   ]
  },
  {
   "cell_type": "code",
   "execution_count": 9,
   "id": "3825e73f",
   "metadata": {},
   "outputs": [],
   "source": [
    "from torch.utils.data import DataLoader\n",
    "\n",
    "train_loader = DataLoader(train_dataset, batch_size=32, shuffle=True, num_workers=2)\n",
    "val_loader = DataLoader(val_dataset, batch_size=32, shuffle=False, num_workers=2)"
   ]
  },
  {
   "cell_type": "code",
   "execution_count": null,
   "id": "7bdb2cc2",
   "metadata": {},
   "outputs": [
    {
     "name": "stdout",
     "output_type": "stream",
     "text": [
      "[1/20] Step 10/675 - Loss: 2.0683\n",
      "[1/20] Step 20/675 - Loss: 1.7672\n"
     ]
    }
   ],
   "source": [
    "import time\n",
    "import torch.nn as nn\n",
    "import torch.optim as optim\n",
    "import torch\n",
    "\n",
    "device = torch.device(\"cuda\" if torch.cuda.is_available() else \"cpu\")\n",
    "\n",
    "criterion = nn.CrossEntropyLoss()\n",
    "optimizer = optim.Adam(model.parameters(), lr=1e-4)\n",
    "num_epochs = 10\n",
    "\n",
    "# === Early Stopping ===\n",
    "best_val_acc = 0.0\n",
    "patience = 3\n",
    "epochs_without_improvement = 0\n",
    "best_model_path = \"mejor_modelo.pth\"\n",
    "\n",
    "for epoch in range(num_epochs):\n",
    "    start_time = time.time()\n",
    "    model.train()\n",
    "    running_loss = 0.0\n",
    "    correct = 0\n",
    "    total = 0\n",
    "\n",
    "    for i, (inputs, targets) in enumerate(train_loader):\n",
    "        inputs, targets = inputs.to(device), targets.to(device)\n",
    "\n",
    "        optimizer.zero_grad()\n",
    "        outputs = model(inputs)\n",
    "        loss = criterion(outputs, targets)\n",
    "        loss.backward()\n",
    "        optimizer.step()\n",
    "\n",
    "        running_loss += loss.item()\n",
    "        _, predicted = outputs.max(1)\n",
    "        total += targets.size(0)\n",
    "        correct += predicted.eq(targets).sum().item()\n",
    "\n",
    "        if (i+1) % 10 == 0 or (i+1) == len(train_loader):\n",
    "            print(f\"[{epoch+1}/{num_epochs}] Step {i+1}/{len(train_loader)} - Loss: {loss.item():.4f}\", flush=True)\n",
    "\n",
    "    epoch_loss = running_loss / len(train_loader)\n",
    "    epoch_acc = 100. * correct / total\n",
    "    duration = time.time() - start_time\n",
    "    print(f\"Época {epoch+1} finalizada | Loss: {epoch_loss:.4f} | Acc: {epoch_acc:.2f}% | Tiempo: {duration:.1f}s\", flush=True)\n",
    "\n",
    "    # === Validación ===\n",
    "    model.eval()\n",
    "    val_correct = 0\n",
    "    val_total = 0\n",
    "    with torch.no_grad():\n",
    "        for val_inputs, val_targets in val_loader:\n",
    "            val_inputs, val_targets = val_inputs.to(device), val_targets.to(device)\n",
    "            val_outputs = model(val_inputs)\n",
    "            _, val_predicted = val_outputs.max(1)\n",
    "            val_total += val_targets.size(0)\n",
    "            val_correct += val_predicted.eq(val_targets).sum().item()\n",
    "\n",
    "    val_acc = 100. * val_correct / val_total\n",
    "    print(f\"Validación - Acc: {val_acc:.2f}%\\n{'-'*60}\", flush=True)\n",
    "\n",
    "    # === Early stopping ===\n",
    "    if val_acc > best_val_acc:\n",
    "        best_val_acc = val_acc\n",
    "        epochs_without_improvement = 0\n",
    "        torch.save(model.state_dict(), best_model_path)\n",
    "        print(f\"Nuevo mejor modelo guardado con Acc: {best_val_acc:.2f}%\", flush=True)\n",
    "    else:\n",
    "        epochs_without_improvement += 1\n",
    "        print(f\"Sin mejora en validación ({epochs_without_improvement}/{patience})\", flush=True)\n",
    "        if epochs_without_improvement >= patience:\n",
    "            print(\"Early stopping activado.\")\n",
    "            break\n"
   ]
  }
 ],
 "metadata": {
  "kernelspec": {
   "display_name": "Python 3",
   "language": "python",
   "name": "python3"
  },
  "language_info": {
   "codemirror_mode": {
    "name": "ipython",
    "version": 3
   },
   "file_extension": ".py",
   "mimetype": "text/x-python",
   "name": "python",
   "nbconvert_exporter": "python",
   "pygments_lexer": "ipython3",
   "version": "3.11.9"
  }
 },
 "nbformat": 4,
 "nbformat_minor": 5
}
